{
  "nbformat": 4,
  "nbformat_minor": 0,
  "metadata": {
    "colab": {
      "provenance": []
    },
    "kernelspec": {
      "name": "python3",
      "display_name": "Python 3"
    },
    "language_info": {
      "name": "python"
    }
  },
  "cells": [
    {
      "cell_type": "markdown",
      "source": [
        "# Assignment vs Equality Operator"
      ],
      "metadata": {
        "id": "JZMWToczyOy6"
      }
    },
    {
      "cell_type": "code",
      "source": [
        "# The assignment operator (=) is used to assign value to a variable.\n",
        "# For example\n",
        "x = 7\n",
        "y = 9\n",
        "z = \"Alpha\"\n",
        "is_blue = True\n",
        "\n",
        "# The equality operator (==) is used to compare two values for equality. It returns True if the values are equal, otherwise False.\n",
        "# For example\n",
        "AI = 14\n",
        "DS = 14\n",
        "score_equal = (AI == DS)\n",
        "print(is_equal)\n",
        "\n",
        "if x == y:\n",
        "    print(\"x and y are equal\")\n",
        "else:\n",
        "    print(\"x and y are not equal\")"
      ],
      "metadata": {
        "id": "-JyDYLTAxaOs"
      },
      "execution_count": null,
      "outputs": []
    },
    {
      "cell_type": "markdown",
      "source": [
        "# Data types of variables"
      ],
      "metadata": {
        "id": "TVqUEFl5yc0h"
      }
    },
    {
      "cell_type": "code",
      "execution_count": null,
      "metadata": {
        "id": "A52GxPoTwvf8"
      },
      "outputs": [],
      "source": [
        "# Integer variable\n",
        "a = 13\n",
        "# Floating-point variable\n",
        "b = 5.67\n",
        "# String variable\n",
        "name = \"Affan Zulfiqar\"\n",
        "# Boolean variable\n",
        "cat = True\n",
        "print(b)\n",
        "print(cat)"
      ]
    },
    {
      "cell_type": "markdown",
      "source": [
        "# Rules for variables name and usage:"
      ],
      "metadata": {
        "id": "Ylc8VsXLyda7"
      }
    },
    {
      "cell_type": "code",
      "source": [
        "  # Rules for variable names\n",
        "# Variable names can contain letters both uppercase and lowercase, digits, and underscores.\n",
        "# They cannot start with a digit.\n",
        "# Variable names are case-sensitive.\n",
        "# They cannot contain spaces or special characters except underscores.\n",
        "# Variable names cannot be Python keywords or reserved words.\n",
        "\n",
        "#Invalid Variable Names\n",
        "2sport = \"Footbal\" #start with constant\n",
        "sp@ort = \"Ball\" # special character in Variable name\n",
        "sp ort = \"Bat\" #Space in Variable name\n",
        "def = \"function\" # keyword in variable name\n",
        "\n",
        "#Valid Variable Names\n",
        "my_score = 10  # containing lowercase letters and underscore\n",
        "playerName = \"Affan\"  #  containing both uppercase and lowercase letters, and digits also.\n",
        "_teamwins = True  #  starting with an underscore\n",
        "Team_Average = 16.87  #containing uppercase letters and underscore"
      ],
      "metadata": {
        "id": "3_6xY54KxrRb"
      },
      "execution_count": null,
      "outputs": []
    },
    {
      "cell_type": "markdown",
      "source": [
        "# Declare and initialize multiple variables in a single line"
      ],
      "metadata": {
        "id": "BW7deYOgzgkn"
      }
    },
    {
      "cell_type": "code",
      "source": [
        "# Single variable with multiple values\n",
        "Haseeb = \"Hostel B\",225,7890\n",
        "print(Haseeb)\n",
        "Noman = \"Hostel A\",106,5670\n",
        "print(Noman)\n",
        "\n",
        "# Multiple variables with single values\n",
        "x = y = z = 786\n",
        "print(x)\n",
        "print(y)\n",
        "print(z)\n",
        "\n",
        "Affan = Rafay = Zaryab = \"AI\"\n",
        "print(Affan)\n",
        "print(Zaryab)\n",
        "print(Rafay)"
      ],
      "metadata": {
        "id": "1ZMD57Hnx_ll"
      },
      "execution_count": null,
      "outputs": []
    },
    {
      "cell_type": "markdown",
      "source": [
        "# Arithmetic operations on integers and floating-point numbers"
      ],
      "metadata": {
        "id": "6imPRK4Fz3Am"
      }
    },
    {
      "cell_type": "code",
      "source": [
        "# Arithmetic operations on integers\n",
        "a = 128\n",
        "b = 37\n",
        "Iadd = a + b\n",
        "Isub = a - b\n",
        "Imultiply = a * b\n",
        "Idiv = a / b\n",
        "Ioutput = a//b # Output in integer value\n",
        "print(Idiv)\n",
        "print(Ioutput)\n",
        "# Arithmetic operations on floating-point numbers\n",
        "c = 5.68\n",
        "d = 1.43\n",
        "Fadd = a + d\n",
        "Fsub = a - d\n",
        "Fmultiply = c * d\n",
        "Fdiv = c / d\n",
        "print(Fmultiply)"
      ],
      "metadata": {
        "id": "LfD9nMPKyBN-"
      },
      "execution_count": null,
      "outputs": []
    },
    {
      "cell_type": "markdown",
      "source": [
        "# Different quotes for string literals"
      ],
      "metadata": {
        "id": "yWbR-t1V0AQm"
      }
    },
    {
      "cell_type": "code",
      "source": [
        "# Using single quotes\n",
        "single = 'This is AI-Blue'\n",
        "\n",
        "# Using double quotes\n",
        "double = \"This is Programming Lab\"\n",
        "\n",
        "# Using double quotes when the string contains a single quote\n",
        "double_with_single = \"This is 4th 'Semester'\"\n",
        "\n",
        "# Using single quotes when the string contains double quotes\n",
        "single_with_double = 'This is \"PAF-IAST\"'\n",
        "\n",
        "print(double)\n",
        "print(double_with_single)"
      ],
      "metadata": {
        "id": "Nn2l21lSyB0t"
      },
      "execution_count": null,
      "outputs": []
    },
    {
      "cell_type": "markdown",
      "source": [
        "# Using print() funtion for output"
      ],
      "metadata": {
        "id": "Q6OqNKcl0Gyg"
      }
    },
    {
      "cell_type": "code",
      "source": [
        "Rafay = 9\n",
        "print(Rafay)       # Output a variable\n",
        "Zaryab = 14\n",
        "print(Rafay,Zaryab)  # multiple variables output\n",
        "\n",
        "# using f-strings to format output\n",
        "name = \"Rafay\"\n",
        "age = 20\n",
        "print(f\"My classmate is {name} and he is {age} years old.\")\n",
        "\n",
        "#  using f-strings to manipulate variables in output\n",
        "length = 12\n",
        "width = 5.6\n",
        "area = length * width\n",
        "print(f\"The area of the rectangle is {area}.\")\n",
        "\n",
        "# String and Int variable Output\n",
        "a= \"Tanveer\"\n",
        "b = \"Score is\"             # use str for variable which have type int\n",
        "c = 56                      # no space in between strings (+)\n",
        "print(a + b + str(c))\n",
        "\n",
        "a= \"Raja Score\"\n",
        "b = \"is\"                # have space in between strings (,)\n",
        "c = 47\n",
        "print(a , b , c)"
      ],
      "metadata": {
        "id": "yYXAPU5QyJkc"
      },
      "execution_count": null,
      "outputs": []
    }
  ]
}