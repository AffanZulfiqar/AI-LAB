{
 "cells": [
  {
   "cell_type": "markdown",
   "id": "541bb228-9bb6-4d35-b153-2b2c86b6a123",
   "metadata": {},
   "source": [
    "# LAB 2 and 3 (Class Tasks)"
   ]
  },
  {
   "cell_type": "markdown",
   "id": "32a5974d-17b3-4d6d-9432-2bfde3101b43",
   "metadata": {},
   "source": [
    "### Task 1"
   ]
  },
  {
   "cell_type": "code",
   "execution_count": 19,
   "id": "8dd9f834-f095-496c-a26e-6181ee1cebd3",
   "metadata": {},
   "outputs": [
    {
     "name": "stdout",
     "output_type": "stream",
     "text": [
      "3\n",
      "12\n",
      "4\n",
      "3\n",
      "7\n",
      "23.4\n",
      "34.6\n",
      "1.65\n",
      "32.5\n",
      "40.6\n",
      "(2+3j)\n",
      "5j\n",
      "7j\n",
      "(4+5j)\n",
      "(7+6j)\n",
      "<class 'int'>\n",
      "<class 'float'>\n",
      "<class 'complex'>\n"
     ]
    }
   ],
   "source": [
    "Babar = 3\n",
    "Shan = 12\n",
    "Salah = 4\n",
    "Mane = 3\n",
    "Raja = 7\n",
    "\n",
    "print(Babar)\n",
    "print(Shan)\n",
    "print(Salah)\n",
    "print(Mane)\n",
    "print(Raja)\n",
    "\n",
    "Mean = 23.4\n",
    "Average = 34.6\n",
    "Runrate = 1.65\n",
    "Velocity = 32.5\n",
    "Acceleration = 40.6\n",
    "\n",
    "print(Mean)\n",
    "print(Average)\n",
    "print(Runrate)\n",
    "print(Velocity)\n",
    "print(Acceleration)\n",
    "\n",
    "Complex1 = 2 + 3j\n",
    "Complex2 = 5j \n",
    "Complex3 = 7j\n",
    "Complex4 = 4 + 5j\n",
    "Complex5 = 7 + 6j\n",
    "\n",
    "print(Complex1)\n",
    "print(Complex2)\n",
    "print(Complex3)\n",
    "print(Complex4)\n",
    "print(Complex5)\n",
    "\n",
    "print(type(Babar))\n",
    "print(type(Mean))\n",
    "print(type(Complex1))\n"
   ]
  },
  {
   "cell_type": "markdown",
   "id": "030ca369-5812-4d3e-a7dd-b88ae0843948",
   "metadata": {},
   "source": [
    "### Task 2"
   ]
  },
  {
   "cell_type": "code",
   "execution_count": 16,
   "id": "55fba09e-998d-4826-bce2-65db37397d9f",
   "metadata": {},
   "outputs": [
    {
     "name": "stdout",
     "output_type": "stream",
     "text": [
      "3.0\n",
      "4.0\n",
      "3.0\n",
      "34\n",
      "1\n",
      "32\n",
      "(3+0j)\n",
      "(4+0j)\n",
      "(3+0j)\n"
     ]
    }
   ],
   "source": [
    "Babar = 3\n",
    "Shan = 12\n",
    "Salah = 4\n",
    "Mane = 3\n",
    "Raja = 7\n",
    "\n",
    "# Convert from int to float\n",
    "a = float(Babar)\n",
    "b = float(Salah)\n",
    "c = float(Mane)\n",
    "print(a)\n",
    "print(b)\n",
    "print(c)\n",
    "\n",
    "# Convert from float to int\n",
    "Mean = 23.4\n",
    "Average = 34.6\n",
    "Runrate = 1.65\n",
    "Velocity = 32.5\n",
    "Acceleration = 40.6\n",
    "\n",
    "d = int(Average)\n",
    "e = int(Runrate)\n",
    "f = int(Velocity)\n",
    "print(d)\n",
    "print(e)\n",
    "print(f)\n",
    "\n",
    "# Convert from int to Complex\n",
    "x = complex(Babar)\n",
    "y = complex(Salah)\n",
    "z = complex(Mane)\n",
    "print(x)\n",
    "print(y)\n",
    "print(z)\n",
    "\n",
    "\n"
   ]
  },
  {
   "cell_type": "markdown",
   "id": "6a7d2821-7ec6-4e89-9400-dc836c848765",
   "metadata": {},
   "source": [
    "### Task 3"
   ]
  },
  {
   "cell_type": "code",
   "execution_count": 32,
   "id": "899a4b04-0708-4a60-bcd9-150eef19457d",
   "metadata": {},
   "outputs": [
    {
     "name": "stdout",
     "output_type": "stream",
     "text": [
      "Student data : ('Affan Zulfiqar', 'B22F0144AI050', 'AI', 4)\n"
     ]
    }
   ],
   "source": [
    "# Single Variable to Multiple Values\n",
    "Student = \"Affan Zulfiqar\", \"B22F0144AI050\", \"AI\", 4\n",
    "print(\"Student data :\", Student)"
   ]
  },
  {
   "cell_type": "markdown",
   "id": "a5c3b4bd-de36-4e6a-b880-274d025476bd",
   "metadata": {},
   "source": [
    "### Task 4"
   ]
  },
  {
   "cell_type": "code",
   "execution_count": 30,
   "id": "09ecfa9b-8ede-4662-8b56-c380f919b730",
   "metadata": {},
   "outputs": [
    {
     "name": "stdout",
     "output_type": "stream",
     "text": [
      "Length of Text 25\n"
     ]
    }
   ],
   "source": [
    "# finding length of string\n",
    "txt = \" This is Programming lab \"\n",
    "print(\"Length of Text\",len(txt))"
   ]
  },
  {
   "cell_type": "markdown",
   "id": "f8864061-3ba5-4a56-8b97-fd8e62df4403",
   "metadata": {},
   "source": [
    "### Task 5"
   ]
  },
  {
   "cell_type": "code",
   "execution_count": 34,
   "id": "e33b9f19-3a1a-42b8-8013-1422217758fa",
   "metadata": {},
   "outputs": [
    {
     "name": "stdout",
     "output_type": "stream",
     "text": [
      "tan\n"
     ]
    }
   ],
   "source": [
    "# using slicing to extract a substring\n",
    "myCountry = \"Pakistan\"\n",
    "print(myCountry[5:8])"
   ]
  },
  {
   "cell_type": "markdown",
   "id": "fb55437d-eeb3-49b8-8c20-62ca2913bb91",
   "metadata": {},
   "source": [
    "### Task 6"
   ]
  },
  {
   "cell_type": "code",
   "execution_count": 36,
   "id": "78e6e34e-65b1-4f2c-9959-8dd9e4e64e5d",
   "metadata": {},
   "outputs": [
    {
     "name": "stdout",
     "output_type": "stream",
     "text": [
      "ff\n"
     ]
    }
   ],
   "source": [
    "# using slicing to extract a substring from end\n",
    "Name = \"Affan\"\n",
    "print(Name[-4:-2])"
   ]
  },
  {
   "cell_type": "markdown",
   "id": "c8d80eba-fe8f-4718-ad93-954ba60b3fe9",
   "metadata": {},
   "source": [
    "### Task 7"
   ]
  },
  {
   "cell_type": "code",
   "execution_count": 40,
   "id": "9e2cf46e-cbf6-4925-9a20-b1342a41cf79",
   "metadata": {},
   "outputs": [
    {
     "name": "stdout",
     "output_type": "stream",
     "text": [
      "My name is Affan, I am 21 years old, and I live in Karachi. My grade is A.\n",
      "Affan is 21 years old, lives in Karachi, and got grade A.\n"
     ]
    }
   ],
   "source": [
    "Name = \"Affan\"\n",
    "Age = 21\n",
    "City = \"Karachi\"\n",
    "Grade = \"A\"\n",
    "\n",
    "# Without index numbers in the format function\n",
    "withoutindex= f\"My name is {Name}, I am {Age} years old, and I live in {City}. My grade is {Grade}.\"\n",
    "print(withoutindex)\n",
    "\n",
    "# Using index numbers in the format function\n",
    "\n",
    "\n",
    "withindex = \"{0} is {1} years old, lives in {2}, and got grade {3}.\"\n",
    "print(withindex.format(name, age, city, grade))\n"
   ]
  },
  {
   "cell_type": "markdown",
   "id": "236b0637-2dcd-4205-aabd-6e2da23092e0",
   "metadata": {},
   "source": [
    "### Task 8"
   ]
  },
  {
   "cell_type": "code",
   "execution_count": 42,
   "id": "80c7bfa1-6d7a-4422-b28e-d23048db81ba",
   "metadata": {},
   "outputs": [
    {
     "name": "stdin",
     "output_type": "stream",
     "text": [
      "Enter your name:  Affan\n",
      "Enter your age:  21\n"
     ]
    },
    {
     "name": "stdout",
     "output_type": "stream",
     "text": [
      "Affan's age is: 21\n"
     ]
    }
   ],
   "source": [
    "# Taking input from the user\n",
    "name = input(\"Enter your name: \")\n",
    "age = input(\"Enter your age: \")\n",
    "\n",
    "# Displaying the input \n",
    "print(\"{}'s age is: {}\".format(name, age))"
   ]
  },
  {
   "cell_type": "code",
   "execution_count": null,
   "id": "3603c193-16b0-4ec3-bb85-1abcf8e4480d",
   "metadata": {},
   "outputs": [],
   "source": []
  }
 ],
 "metadata": {
  "kernelspec": {
   "display_name": "Python 3 (ipykernel)",
   "language": "python",
   "name": "python3"
  },
  "language_info": {
   "codemirror_mode": {
    "name": "ipython",
    "version": 3
   },
   "file_extension": ".py",
   "mimetype": "text/x-python",
   "name": "python",
   "nbconvert_exporter": "python",
   "pygments_lexer": "ipython3",
   "version": "3.11.5"
  }
 },
 "nbformat": 4,
 "nbformat_minor": 5
}
