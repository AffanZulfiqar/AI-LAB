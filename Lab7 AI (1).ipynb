{
 "cells": [
  {
   "cell_type": "code",
   "execution_count": 17,
   "id": "89f1d3a6-2e2d-428a-8997-9a78eea01daa",
   "metadata": {},
   "outputs": [
    {
     "name": "stdin",
     "output_type": "stream",
     "text": [
      "Enter year 4812\n"
     ]
    },
    {
     "name": "stdout",
     "output_type": "stream",
     "text": [
      "True\n"
     ]
    }
   ],
   "source": [
    "year = int(input(\"Enter year\"))\n",
    "is_leap = False   \n",
    "if year % 4 == 0:  # If the year is divisible by 4\n",
    "    if year % 100 == 0:  # If the year is divisible by 100\n",
    "        if year % 400 == 0:  # If the year is divisible by 400\n",
    "            is_leap = True  # Leap year\n",
    "        else:\n",
    "            is_leap = False  # Not a leap year\n",
    "    else:\n",
    "        is_leap = True  # Leap year\n",
    "else:\n",
    "    is_leap = False  # Not a leap year\n",
    "print(is_leap)"
   ]
  },
  {
   "cell_type": "code",
   "execution_count": 3,
   "id": "542ca5d4-5d5c-476c-a8d2-6266b31542fa",
   "metadata": {},
   "outputs": [
    {
     "name": "stdin",
     "output_type": "stream",
     "text": [
      "Enter Person Nationality Pakistani\n",
      "Enter Gender Male\n"
     ]
    },
    {
     "name": "stdout",
     "output_type": "stream",
     "text": [
      "Person is Pakistani\n",
      "Gender is Male\n"
     ]
    }
   ],
   "source": [
    "Person = input(\"Enter Person Nationality\")\n",
    "Gender = input(\"Enter Gender\")\n",
    "if Person == \"Pakistani\":\n",
    "    print(\"Person is Pakistani\")\n",
    "    if Gender == \"Male\":\n",
    "        print(\"Gender is Male\")"
   ]
  },
  {
   "cell_type": "code",
   "execution_count": 1,
   "id": "935bbe2d-570f-4860-af4c-cbca59a37606",
   "metadata": {},
   "outputs": [
    {
     "name": "stdin",
     "output_type": "stream",
     "text": [
      "Enter the score:  67\n"
     ]
    },
    {
     "name": "stdout",
     "output_type": "stream",
     "text": [
      "Grade: D\n"
     ]
    }
   ],
   "source": [
    "score = int(input(\"Enter the score: \"))\n",
    "\n",
    "if score >= 90:\n",
    "    grade = 'A'\n",
    "if score >= 80 and score < 90:\n",
    "    grade = 'B'\n",
    "if score >= 70 and score < 80:\n",
    "    grade = 'C'\n",
    "if score >= 60 and score < 70:\n",
    "    grade = 'D'\n",
    "if score < 60:\n",
    "    grade = 'F'\n",
    "\n",
    "print(\"Grade:\", grade)"
   ]
  },
  {
   "cell_type": "code",
   "execution_count": 7,
   "id": "410512ff-6ddf-4ed9-af46-d04245e9983d",
   "metadata": {},
   "outputs": [
    {
     "name": "stdin",
     "output_type": "stream",
     "text": [
      "Enter the marks 45\n"
     ]
    },
    {
     "name": "stdout",
     "output_type": "stream",
     "text": [
      "Student is Pass\n",
      "Program Finish\n"
     ]
    }
   ],
   "source": [
    "marks = int(input(\"Enter the marks\"))\n",
    "if marks > 40:\n",
    "    print(\"Student is Pass\")\n",
    "else :\n",
    "    print(\"Student is Fail\")\n",
    "print (\"Program Finish\")"
   ]
  },
  {
   "cell_type": "code",
   "execution_count": null,
   "id": "82ea40f0-2c05-483f-b249-32c4084cdbc9",
   "metadata": {},
   "outputs": [],
   "source": []
  }
 ],
 "metadata": {
  "kernelspec": {
   "display_name": "Python 3 (ipykernel)",
   "language": "python",
   "name": "python3"
  },
  "language_info": {
   "codemirror_mode": {
    "name": "ipython",
    "version": 3
   },
   "file_extension": ".py",
   "mimetype": "text/x-python",
   "name": "python",
   "nbconvert_exporter": "python",
   "pygments_lexer": "ipython3",
   "version": "3.11.5"
  }
 },
 "nbformat": 4,
 "nbformat_minor": 5
}
