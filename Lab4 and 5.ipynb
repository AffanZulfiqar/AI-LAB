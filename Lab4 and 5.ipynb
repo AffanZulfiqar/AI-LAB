{
 "cells": [
  {
   "cell_type": "markdown",
   "id": "cdbe06d4-4138-40b7-8096-6473c196ddc2",
   "metadata": {},
   "source": [
    "# Lab 4 and 5 (Class Tasks)\n",
    "\n"
   ]
  },
  {
   "cell_type": "markdown",
   "id": "17ab7267-8a3f-44db-a897-4e572b6e4764",
   "metadata": {},
   "source": [
    "## 1.\tAccess List Items:\n",
    "#### •\tCreate a list of fruits.\n",
    "#### •\tPrint the first and last items of the list.\n"
   ]
  },
  {
   "cell_type": "code",
   "execution_count": 1,
   "id": "cdeaa1e8-65ee-4c0d-9e9d-b2a7073ebcbe",
   "metadata": {},
   "outputs": [
    {
     "name": "stdout",
     "output_type": "stream",
     "text": [
      "First item: apple\n",
      "Last item: strawberry\n"
     ]
    }
   ],
   "source": [
    "#list of fruits\n",
    "fruits = ['apple', 'banana', 'orange', 'lychee', 'strawberry']\n",
    "\n",
    "# first item of the list\n",
    "print(\"First item:\", fruits[0])\n",
    "\n",
    "# last item \n",
    "print(\"Last item:\", fruits[-1])"
   ]
  },
  {
   "cell_type": "markdown",
   "id": "e3b68900-4e6e-4345-9336-6f86c27e05d4",
   "metadata": {},
   "source": [
    "## 2.\tChange List Items:\n",
    "#### •\tCreate a list of colors.\n",
    "#### •\tChange the second item in the list to \"blue\".\n"
   ]
  },
  {
   "cell_type": "code",
   "execution_count": 41,
   "id": "dff7fe1e-45f5-4c0e-9baf-17b8f965b30c",
   "metadata": {},
   "outputs": [
    {
     "name": "stdout",
     "output_type": "stream",
     "text": [
      "Original list of colors: ['red', 'green', 'yellow', 'white']\n",
      "Updated list of colors: ['red', 'yellow', 'white']\n"
     ]
    }
   ],
   "source": [
    "# list of colors\n",
    "colors = ['red', 'green', 'yellow', 'white']\n",
    "\n",
    "#  original list of colors\n",
    "print(\"Original list of colors:\", colors)\n",
    "\n",
    "# Change the second item in the list \n",
    "colors[1] = \"blue\"\n",
    "\n",
    "# here I print updated list of colors\n",
    "print(\"Updated list of colors:\", colors)"
   ]
  },
  {
   "cell_type": "markdown",
   "id": "d4f2b879-258e-474b-9f31-baf6dd48f246",
   "metadata": {},
   "source": [
    "## 3.\tAdd List Items:\n",
    "#### •\tCreate a list of numbers.\n",
    "#### •\tAdd the number 10 at the end of the list.\n"
   ]
  },
  {
   "cell_type": "code",
   "execution_count": 3,
   "id": "5175f5d3-e8fc-4cd4-b883-12172936cc19",
   "metadata": {},
   "outputs": [
    {
     "name": "stdout",
     "output_type": "stream",
     "text": [
      "Original list of numbers: [9, 4, 8, 7, 9]\n",
      "Updated list of numbers: [9, 4, 8, 7, 9, 10]\n"
     ]
    }
   ],
   "source": [
    "# list of numbers\n",
    "numbers = [9, 4, 8, 7, 9]\n",
    "\n",
    "# original list of numbers\n",
    "print(\"Original list of numbers:\", numbers)\n",
    "\n",
    "# place number 10 at the end of the list\n",
    "numbers.append(10)\n",
    "\n",
    "# Printing the updated list \n",
    "print(\"Updated list of numbers:\", numbers)"
   ]
  },
  {
   "cell_type": "markdown",
   "id": "d635da5d-a10b-4dcc-a189-0961693041bf",
   "metadata": {},
   "source": [
    "## 4. Remove List Items:\n",
    "#### •\tCreate a list of animals.\n",
    "#### •\tRemove the third item from the list.\n"
   ]
  },
  {
   "cell_type": "code",
   "execution_count": 7,
   "id": "5c270155-64e5-45f2-8858-33acc0bad1ee",
   "metadata": {},
   "outputs": [
    {
     "name": "stdout",
     "output_type": "stream",
     "text": [
      "list of animals: ['lion', 'elephant', 'tiger', 'giraffe', 'zebra']\n",
      "Updated list of animals: ['lion', 'elephant', 'tiger', 'zebra']\n"
     ]
    }
   ],
   "source": [
    "# list of animals\n",
    "animals = ['lion', 'elephant', 'tiger', 'giraffe', 'zebra']\n",
    "\n",
    "# Print the original list of animals\n",
    "print(\"list of animals:\", animals)\n",
    "\n",
    "# Remove the third item from the list\n",
    "del animals[3]\n",
    "\n",
    "# Print the updated list of animals\n",
    "print(\"Updated list of animals:\", animals)"
   ]
  },
  {
   "cell_type": "markdown",
   "id": "51c89ffc-9538-4de9-98b2-65e251c79867",
   "metadata": {},
   "source": [
    "## 5.\tLoop Lists:\n",
    "#### •\tCreate a list of cities.\n",
    "#### •\tLoop through the list and print each city."
   ]
  },
  {
   "cell_type": "code",
   "execution_count": 6,
   "id": "78143213-e17f-4019-ada0-0f944bcb14c8",
   "metadata": {},
   "outputs": [
    {
     "name": "stdout",
     "output_type": "stream",
     "text": [
      "List of cities:\n",
      "Karachi\n",
      "Riyadh\n",
      "Haripur\n",
      "Islamabad\n",
      "Mansehra\n"
     ]
    }
   ],
   "source": [
    "# list of cities\n",
    "cities = ['Karachi', 'Riyadh', 'Haripur', 'Islamabad', 'Mansehra']\n",
    "\n",
    "# Loop through the list and print each city names\n",
    "print(\"List of cities:\")\n",
    "for city in cities:\n",
    "    print(city)"
   ]
  },
  {
   "cell_type": "markdown",
   "id": "3c01384e-9c59-476e-9a0f-ccfc9cd67205",
   "metadata": {},
   "source": [
    "## 6.\tList Comprehension:\n",
    "#### •\tCreate a list of numbers from 1 to 10.\n",
    "#### •\tUse list comprehension to create a new list containing the square of each number."
   ]
  },
  {
   "cell_type": "code",
   "execution_count": null,
   "id": "1a5c0b5e-3b0e-4947-b359-aa5e3ed4d10f",
   "metadata": {},
   "outputs": [],
   "source": [
    "# list of numbers from 1 to 10\n",
    "numbers = [i for i in range(1, 11)]\n",
    "\n",
    "# new list containing the square of each number\n",
    "squares = [num ** 2 for num in numbers]\n",
    "\n",
    "# list of numbers\n",
    "print(\" list of numbers:\", numbers)\n",
    "\n",
    "#  list containing the square of each number\n",
    "print(\"List of squares:\", squares)"
   ]
  },
  {
   "cell_type": "markdown",
   "id": "bb26f20f-8bf3-4616-8fa9-8da9e9c2e0c2",
   "metadata": {},
   "source": [
    "## 7.\tSort Lists:\n",
    "#### •\tCreate a list of names.\n",
    "#### •\tSort the list alphabetically"
   ]
  },
  {
   "cell_type": "code",
   "execution_count": null,
   "id": "5e314c08-16e6-4238-9a0f-627e868e62b3",
   "metadata": {},
   "outputs": [],
   "source": [
    "names = ['Affan', 'Tanveer', 'Zaryab', 'Mohiz', 'Rafay'] # list of names\n",
    "#  list of names\n",
    "print(\"list of names:\", names)\n",
    "# Sort the list \n",
    "names.sort()\n",
    "# here printing the sorted list \n",
    "print(\"Sorted list of names:\", names)"
   ]
  },
  {
   "cell_type": "markdown",
   "id": "b7b095a6-533e-461a-99f7-5a69f2b4cb87",
   "metadata": {},
   "source": [
    "## 8.\tCopy Lists:\n",
    "#### •\tCreate a list of fruits.\n",
    "#### •\tCopy the list into a new list."
   ]
  },
  {
   "cell_type": "code",
   "execution_count": 9,
   "id": "bcbf3e8d-d673-4f57-83f7-01750d1d7c06",
   "metadata": {},
   "outputs": [
    {
     "name": "stdout",
     "output_type": "stream",
     "text": [
      "List of fruits: ['cherry', 'grape', 'banana', 'strawberry']\n",
      "Copied list of fruits: ['cherry', 'grape', 'banana', 'strawberry']\n"
     ]
    }
   ],
   "source": [
    "# list of fruits\n",
    "fruits = ['cherry', 'grape', 'banana', 'strawberry']\n",
    "\n",
    "# list of fruits\n",
    "print(\"List of fruits:\", fruits)\n",
    "\n",
    "# Copy the list into a new list\n",
    "fruits_copy = fruits.copy()\n",
    "\n",
    "# printing the copied list \n",
    "print(\"Copied list of fruits:\", fruits_copy)"
   ]
  },
  {
   "cell_type": "markdown",
   "id": "8268fd74-a172-4a76-8085-092f672af713",
   "metadata": {},
   "source": [
    "## 9.\tJoin Lists:\n",
    "#### •\tCreate two lists of numbers.\n",
    "#### •\tJoin the two lists into a single list"
   ]
  },
  {
   "cell_type": "code",
   "execution_count": null,
   "id": "f163fea5-e02a-45a4-aa71-6e36e15c8054",
   "metadata": {},
   "outputs": [],
   "source": [
    "# Two lists of numbers\n",
    "Team_alpha = [1, 2, 3]\n",
    "Team_beta = [4, 5, 6]\n",
    "\n",
    "# joining the two lists into a single list\n",
    "joined_list = Team_alpha + Team_beta\n",
    "\n",
    "# Print the joined list\n",
    "print(\"Joined list:\", joined_list)"
   ]
  },
  {
   "cell_type": "markdown",
   "id": "89d5bb86-c2da-43f5-87c4-d92171d47760",
   "metadata": {},
   "source": [
    "## 10.\tList Methods:\n",
    "#### •\tCreate a list of fruits.\n",
    "#### •\tUse the append() method to add a new fruit to the list.\n",
    "#### •\tUse the pop() method to remove the last fruit from the list."
   ]
  },
  {
   "cell_type": "code",
   "execution_count": null,
   "id": "44d741d9-cdb0-42ee-bd8b-97576328de52",
   "metadata": {},
   "outputs": [],
   "source": [
    "# list of fruits\n",
    "fruits = ['strawberry', 'cherry', 'grape', 'orange']\n",
    "# Printing the list of fruits\n",
    "print(\"Original list of fruits:\", fruits)\n",
    "# Using append() to add a new fruit to the list\n",
    "fruits.append('grape')\n",
    "# Printing updated list \n",
    "print(\"List of fruits after appending:\", fruits)\n",
    "# Using the pop() to remove the last fruit \n",
    "removed_fruit = fruits.pop()\n",
    "\n",
    "# Printing removed fruit and the updated list of fruits after popping\n",
    "print(\"Removed fruit:\", removed_fruit)\n",
    "print(\"List of fruits after popping:\", fruits)\n"
   ]
  },
  {
   "cell_type": "markdown",
   "id": "5e4c7c81-4d8f-4b2e-affb-64cbb54b463b",
   "metadata": {},
   "source": [
    "## 11.\tCombining Lists and List Comprehension:\n",
    "\n",
    "#### •\tCreate two lists, one containing numbers from 1 to 5 and another containing numbers from 6 to 10.\n",
    "#### •\tUse list comprehension to create a new list that contains the sum of corresponding elements from the two lists.\n"
   ]
  },
  {
   "cell_type": "code",
   "execution_count": 12,
   "id": "7b5e5de1-3ebb-49c7-8c28-e22ecb8477ce",
   "metadata": {},
   "outputs": [
    {
     "name": "stdout",
     "output_type": "stream",
     "text": [
      "List 1: [5, 8, 9, 7, 2]\n",
      "List 2: [8, 4, 12, 23, 11]\n",
      "List containing the sum of corresponding elements: [13, 12, 21, 30, 13]\n"
     ]
    }
   ],
   "source": [
    "# Creating two lists which contain numbers\n",
    "first_list = [5, 8, 9, 7, 2]\n",
    "second_list = [8, 4, 12, 23, 11]\n",
    "# Using list comprehension to create a new list containing the sum of corresponding elements\n",
    "sum_list = [x + y for x, y in zip(first_list, second_list)]\n",
    "\n",
    "# Print the original lists\n",
    "print(\"List 1:\", first_list)\n",
    "print(\"List 2:\", second_list)\n",
    "\n",
    "# Printing new list containing the sum of corresponding elements\n",
    "print(\"List containing the sum of corresponding elements:\", sum_list)"
   ]
  },
  {
   "cell_type": "markdown",
   "id": "6650c4ac-387b-424e-9eaf-94e37bede11f",
   "metadata": {},
   "source": [
    "## 12.\tFiltering and Sorting:\n",
    "#### Create a list of numbers.\n",
    "#### •\tUse list comprehension to create a new list containing only the even numbers from the original list.\n",
    "#### •\tSort the new list in descending order."
   ]
  },
  {
   "cell_type": "code",
   "execution_count": 30,
   "id": "ca1ce430-d101-425e-b88e-fdb56e0d380b",
   "metadata": {},
   "outputs": [
    {
     "name": "stdout",
     "output_type": "stream",
     "text": [
      "[12, 6]\n"
     ]
    }
   ],
   "source": [
    "# create a list which contain numbers\n",
    "Team_Haripur = [12, 3, 7, 9, 19, 6]\n",
    "# new list which contain only even numbers\n",
    "even = [x for x in Team_Haripur if x % 2 == 0]\n",
    "# sort in descending order\n",
    "even.sort(reverse=True)\n",
    "print(even)"
   ]
  },
  {
   "cell_type": "markdown",
   "id": "70a42d08-18e3-420f-bfdb-ea683368ba6c",
   "metadata": {},
   "source": [
    "## 13.\tList Slicing and Reversing:\n",
    "#### •\tCreate a list of numbers from 1 to 10.\n",
    "#### •\tUse list slicing to create a new list containing only the even numbers from the original list, in reverse order."
   ]
  },
  {
   "cell_type": "code",
   "execution_count": 36,
   "id": "72558997-f709-4ee8-b18b-cfe36d53e507",
   "metadata": {},
   "outputs": [
    {
     "name": "stdout",
     "output_type": "stream",
     "text": [
      "[10, 8, 6, 4, 2]\n"
     ]
    }
   ],
   "source": [
    "# creating a list of two numbers\n",
    "numbers = [1, 2, 3, 4, 5, 6, 7, 8, 9, 10]\n",
    "# list containing even numbers with slicing\n",
    "even_reverse= numbers [::1][::-2]\n",
    "# printing the reverse list of even numbers\n",
    "print(even_reverse)"
   ]
  }
 ],
 "metadata": {
  "kernelspec": {
   "display_name": "Python 3 (ipykernel)",
   "language": "python",
   "name": "python3"
  },
  "language_info": {
   "codemirror_mode": {
    "name": "ipython",
    "version": 3
   },
   "file_extension": ".py",
   "mimetype": "text/x-python",
   "name": "python",
   "nbconvert_exporter": "python",
   "pygments_lexer": "ipython3",
   "version": "3.11.5"
  }
 },
 "nbformat": 4,
 "nbformat_minor": 5
}
