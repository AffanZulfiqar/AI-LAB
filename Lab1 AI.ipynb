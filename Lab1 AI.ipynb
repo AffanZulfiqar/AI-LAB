{
 "cells": [
  {
   "cell_type": "markdown",
   "id": "f3205d80-d66e-4c36-9bad-5e5bdca25152",
   "metadata": {},
   "source": [
    "## Assignment vs Equality Operator\n"
   ]
  },
  {
   "cell_type": "code",
   "execution_count": 20,
   "id": "c8813c26-5aaa-481c-8fbb-66b9969b32bd",
   "metadata": {},
   "outputs": [
    {
     "name": "stdout",
     "output_type": "stream",
     "text": [
      "True\n",
      "x and y are not equal\n"
     ]
    }
   ],
   "source": [
    "# The assignment operator (=) is used to assign value to a variable.\n",
    "# For example\n",
    "x = 7\n",
    "y = 9\n",
    "z = \"Alpha\"\n",
    "is_blue = True\n",
    "\n",
    "# The equality operator (==) is used to compare two values for equality. It returns True if the values are equal, otherwise False. \n",
    "# For example\n",
    "AI = 14\n",
    "DS = 14\n",
    "score_equal = (AI == DS)\n",
    "print(is_equal)\n",
    "\n",
    "if x == y:\n",
    "    print(\"x and y are equal\")\n",
    "else:\n",
    "    print(\"x and y are not equal\")"
   ]
  },
  {
   "cell_type": "markdown",
   "id": "212933f7-2243-4ea9-b1bb-082d7dd4a053",
   "metadata": {},
   "source": [
    "## Data types of variables"
   ]
  },
  {
   "cell_type": "code",
   "execution_count": 24,
   "id": "4320d7c8-0c66-46f4-900d-b98cb8a4f927",
   "metadata": {},
   "outputs": [
    {
     "name": "stdout",
     "output_type": "stream",
     "text": [
      "5.67\n",
      "True\n"
     ]
    }
   ],
   "source": [
    "# Integer variable\n",
    "a = 13\n",
    "# Floating-point variable\n",
    "b = 5.67\n",
    "# String variable\n",
    "name = \"Affan Zulfiqar\"\n",
    "# Boolean variable\n",
    "cat = True\n",
    "print(b)\n",
    "print(cat)"
   ]
  },
  {
   "cell_type": "markdown",
   "id": "daf5cab2-8898-453e-98af-b7d92461c7d7",
   "metadata": {},
   "source": [
    "## Rules for variables name and usage:"
   ]
  },
  {
   "cell_type": "code",
   "execution_count": null,
   "id": "0b6a60ae-6703-4956-a5d6-35baa948edab",
   "metadata": {},
   "outputs": [],
   "source": [
    "  # Rules for variable names\n",
    "# Variable names can contain letters both uppercase and lowercase, digits, and underscores.\n",
    "# They cannot start with a digit.\n",
    "# Variable names are case-sensitive.\n",
    "# They cannot contain spaces or special characters except underscores.\n",
    "# Variable names cannot be Python keywords or reserved words.\n",
    "\n",
    "#Invalid Variable Names\n",
    "2sport = \"Footbal\" #start with constant\n",
    "sp@ort = \"Ball\" # special character in Variable name\n",
    "sp ort = \"Bat\" #Space in Variable name\n",
    "def = \"function\" # keyword in variable name\n",
    "\n",
    "#Valid Variable Names\n",
    "my_score = 10  # containing lowercase letters and underscore\n",
    "playerName = \"Affan\"  #  containing both uppercase and lowercase letters, and digits also.\n",
    "_teamwins = True  #  starting with an underscore\n",
    "Team_Average = 16.87  #containing uppercase letters and underscore"
   ]
  },
  {
   "cell_type": "markdown",
   "id": "a8c508d5-1c05-49c3-9714-3c6e5fb9be36",
   "metadata": {},
   "source": [
    "## Declare and initialize multiple variables in a single line "
   ]
  },
  {
   "cell_type": "code",
   "execution_count": 3,
   "id": "a5178728-91e5-4fdb-bb66-d0ce36975b9a",
   "metadata": {},
   "outputs": [
    {
     "name": "stdout",
     "output_type": "stream",
     "text": [
      "('Hostel B', 225, 7890)\n",
      "('Hostel A', 106, 5670)\n",
      "786\n",
      "786\n",
      "786\n",
      "AI\n",
      "AI\n",
      "AI\n"
     ]
    }
   ],
   "source": [
    "# Single variable with multiple values\n",
    "Haseeb = \"Hostel B\",225,7890\n",
    "print(Haseeb)\n",
    "Noman = \"Hostel A\",106,5670\n",
    "print(Noman)\n",
    "\n",
    "# Multiple variables with single values\n",
    "x = y = z = 786\n",
    "print(x)\n",
    "print(y)\n",
    "print(z)\n",
    "\n",
    "Affan = Rafay = Zaryab = \"AI\"\n",
    "print(Affan)\n",
    "print(Zaryab)\n",
    "print(Rafay)"
   ]
  },
  {
   "cell_type": "markdown",
   "id": "8f4e1811-9e2e-4d2d-a17c-bb7ec9d1f476",
   "metadata": {},
   "source": [
    "## Arithmetic operations on integers and floating-point numbers\n"
   ]
  },
  {
   "cell_type": "code",
   "execution_count": 8,
   "id": "ea26e0a7-cec2-4e05-a1da-bfb196705733",
   "metadata": {},
   "outputs": [
    {
     "name": "stdout",
     "output_type": "stream",
     "text": [
      "3.4594594594594597\n",
      "3\n",
      "8.122399999999999\n"
     ]
    }
   ],
   "source": [
    "# Arithmetic operations on integers\n",
    "a = 128\n",
    "b = 37\n",
    "Iadd = a + b\n",
    "Isub = a - b\n",
    "Imultiply = a * b\n",
    "Idiv = a / b\n",
    "Ioutput = a//b # Output in integer value\n",
    "print(Idiv)\n",
    "print(Ioutput)\n",
    "# Arithmetic operations on floating-point numbers\n",
    "c = 5.68\n",
    "d = 1.43\n",
    "Fadd = a + d\n",
    "Fsub = a - d\n",
    "Fmultiply = c * d\n",
    "Fdiv = c / d\n",
    "print(Fmultiply)"
   ]
  },
  {
   "cell_type": "markdown",
   "id": "5c686d10-39f9-4bc6-9fae-ff8c182ef242",
   "metadata": {},
   "source": [
    "## Different quotes for string literals"
   ]
  },
  {
   "cell_type": "code",
   "execution_count": 22,
   "id": "1c5846d6-335a-4fcd-89ad-d5721fd25a56",
   "metadata": {},
   "outputs": [
    {
     "name": "stdout",
     "output_type": "stream",
     "text": [
      "This is Programming Lab\n",
      "This is 4th 'Semester'\n"
     ]
    }
   ],
   "source": [
    "# Using single quotes\n",
    "single = 'This is AI-Blue'\n",
    "\n",
    "# Using double quotes\n",
    "double = \"This is Programming Lab\"\n",
    "\n",
    "# Using double quotes when the string contains a single quote\n",
    "double_with_single = \"This is 4th 'Semester'\"\n",
    "\n",
    "# Using single quotes when the string contains double quotes\n",
    "single_with_double = 'This is \"PAF-IAST\"'\n",
    "\n",
    "print(double)\n",
    "print(double_with_single)"
   ]
  },
  {
   "cell_type": "markdown",
   "id": "6842def1-f328-41fe-afe9-c5efe3b0a769",
   "metadata": {},
   "source": [
    "## Using print() funtion for output"
   ]
  },
  {
   "cell_type": "code",
   "execution_count": 14,
   "id": "f06fdb8f-f46a-45d5-88e0-8ef069e7bfd8",
   "metadata": {},
   "outputs": [
    {
     "name": "stdout",
     "output_type": "stream",
     "text": [
      "9\n",
      "9 14\n",
      "My name is Rafay and I am 20 years old.\n",
      "The area of the rectangle is 67.19999999999999.\n",
      "TanveerScore is56\n",
      "Raja Score is 47\n"
     ]
    }
   ],
   "source": [
    "Rafay = 9\n",
    "print(Rafay)       # Output a variable\n",
    "Zaryab = 14\n",
    "print(Rafay,Zaryab)  # multiple variables output\n",
    "\n",
    "# using f-strings to format output\n",
    "name = \"Rafay\"\n",
    "age = 20\n",
    "print(f\"My classmate is {name} and he is {age} years old.\")\n",
    "\n",
    "#  using f-strings to manipulate variables in output\n",
    "length = 12\n",
    "width = 5.6\n",
    "area = length * width\n",
    "print(f\"The area of the rectangle is {area}.\")\n",
    "\n",
    "# String and Int variable Output\n",
    "a= \"Tanveer\"\n",
    "b = \"Score is\"             # use str for variable which have type int\n",
    "c = 56                      # no space in between strings (+)\n",
    "print(a + b + str(c))\n",
    "\n",
    "a= \"Raja Score\"\n",
    "b = \"is\"                # have space in between strings (,)\n",
    "c = 47\n",
    "print(a , b , c)"
   ]
  },
  {
   "cell_type": "code",
   "execution_count": null,
   "id": "3578329d-8d37-4f27-a6b9-11b6b9eea8db",
   "metadata": {},
   "outputs": [],
   "source": []
  }
 ],
 "metadata": {
  "kernelspec": {
   "display_name": "Python 3 (ipykernel)",
   "language": "python",
   "name": "python3"
  },
  "language_info": {
   "codemirror_mode": {
    "name": "ipython",
    "version": 3
   },
   "file_extension": ".py",
   "mimetype": "text/x-python",
   "name": "python",
   "nbconvert_exporter": "python",
   "pygments_lexer": "ipython3",
   "version": "3.11.5"
  }
 },
 "nbformat": 4,
 "nbformat_minor": 5
}
