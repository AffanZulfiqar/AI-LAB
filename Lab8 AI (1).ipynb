{
 "cells": [
  {
   "cell_type": "markdown",
   "id": "ef8f65c4-8f82-4788-b392-70459f6fa2e2",
   "metadata": {},
   "source": [
    "## Task 1:"
   ]
  },
  {
   "cell_type": "code",
   "execution_count": 9,
   "id": "69d036ea-aab3-43c5-b95f-fbb8b699e546",
   "metadata": {},
   "outputs": [
    {
     "name": "stdout",
     "output_type": "stream",
     "text": [
      "Name: Affan Zulfiqar\n",
      "Registration No: B22F0144AI050\n"
     ]
    }
   ],
   "source": [
    "def Affan():\n",
    "    print(\"Name: Affan Zulfiqar\")\n",
    "    print(\"Registration No: B22F0144AI050\")\n",
    "\n",
    "Affan()"
   ]
  },
  {
   "cell_type": "markdown",
   "id": "3b4c5429-fd71-4cbb-a876-7539efa0a33a",
   "metadata": {},
   "source": [
    "## Task 2:"
   ]
  },
  {
   "cell_type": "code",
   "execution_count": 79,
   "id": "da907983-12fd-4345-9350-e4a8367a5c9e",
   "metadata": {},
   "outputs": [
    {
     "name": "stdout",
     "output_type": "stream",
     "text": [
      "My name is: Affan Zulfiqar\n"
     ]
    }
   ],
   "source": [
    "def AI_BLUE(name):\n",
    "    print(\"My name is:\",name)\n",
    "AI_BLUE(name = \"Affan Zulfiqar\")"
   ]
  },
  {
   "cell_type": "markdown",
   "id": "795183c8-3e9c-4ffa-9772-0f57990ac8c1",
   "metadata": {},
   "source": [
    "## Task 3:"
   ]
  },
  {
   "cell_type": "code",
   "execution_count": 86,
   "id": "b95bbc95-7fcb-4785-8ebf-320eeb2660c6",
   "metadata": {},
   "outputs": [
    {
     "name": "stdout",
     "output_type": "stream",
     "text": [
      "My name is: Affan Zulfiqar\n",
      "My Registration No: B22F0144AI050\n",
      "Section: AI-Blue\n",
      "Department: IT & CS\n"
     ]
    }
   ],
   "source": [
    "def AI_BLUE(name,Reg_no,section,department):\n",
    "    print(\"My name is:\",name)\n",
    "    print(\"My Registration No:\",Reg_no)\n",
    "    print(\"Section:\",section)\n",
    "    print(\"Department:\",department)\n",
    "\n",
    "AI_BLUE(name = \"Affan Zulfiqar\", Reg_no=\"B22F0144AI050\",section=\"AI-Blue\", department=\"IT & CS\")\n"
   ]
  },
  {
   "cell_type": "code",
   "execution_count": 5,
   "id": "88fdbcc4-0d3f-4f02-8a1b-3e2aeba5af9b",
   "metadata": {},
   "outputs": [
    {
     "name": "stdout",
     "output_type": "stream",
     "text": [
      "Abdul Rafay Khalid\n"
     ]
    }
   ],
   "source": [
    "def my_function(fname, lname):\n",
    "  print(fname + \" Rafay \" + lname)\n",
    "\n",
    "my_function(\"Abdul\", \"Khalid\")"
   ]
  },
  {
   "cell_type": "markdown",
   "id": "9919e784-848a-482c-8ac5-cdd2151876ca",
   "metadata": {},
   "source": [
    "## Keyword Arguments"
   ]
  },
  {
   "cell_type": "code",
   "execution_count": 8,
   "id": "08901e39-ef69-4097-ab50-4f268a1446e6",
   "metadata": {},
   "outputs": [
    {
     "name": "stdout",
     "output_type": "stream",
     "text": [
      "The youngest student is Rafay\n"
     ]
    }
   ],
   "source": [
    "def my_function(stud3, stud2, stud1):\n",
    "  print(\"The youngest student is \" + stud3)\n",
    "\n",
    "my_function(stud1 = \"Tanveer\", stud2 = \"Raja\", stud3 = \"Rafay\")"
   ]
  },
  {
   "cell_type": "markdown",
   "id": "4dd04123-d8c9-490f-956c-fbb41ba591df",
   "metadata": {},
   "source": [
    "## Arbitrary arguments"
   ]
  },
  {
   "cell_type": "code",
   "execution_count": 13,
   "id": "c1444fb7-c90e-4f36-8f5c-38f31ebc708a",
   "metadata": {},
   "outputs": [
    {
     "name": "stdout",
     "output_type": "stream",
     "text": [
      "The youngest student is Raja\n"
     ]
    }
   ],
   "source": [
    "def my_function(*stud):\n",
    "  print(\"The youngest student is \" + stud[1])\n",
    "\n",
    "my_function(\"Rafay\", \"Raja\", \"Zaryab\")"
   ]
  },
  {
   "cell_type": "code",
   "execution_count": 85,
   "id": "e64dfef5-02a0-494f-8613-a42a18c77c8a",
   "metadata": {},
   "outputs": [
    {
     "name": "stdout",
     "output_type": "stream",
     "text": [
      "['apple', 'banana', 'cherry']\n",
      "Now print fruit on index 1:\n"
     ]
    },
    {
     "data": {
      "text/plain": [
       "['banana']"
      ]
     },
     "execution_count": 85,
     "metadata": {},
     "output_type": "execute_result"
    }
   ],
   "source": [
    "def my_function(food):\n",
    "  result= []\n",
    "  for x in food:\n",
    "      result.append(x)\n",
    "  return result\n",
    "\n",
    "fruits = [\"apple\", \"banana\", \"cherry\"]\n",
    "print(my_function(fruits))\n",
    "print(\"Now print fruit on index 1:\")\n",
    "my_function(fruits[1:2])\n"
   ]
  },
  {
   "cell_type": "code",
   "execution_count": 78,
   "id": "19b50628-e9fa-49cf-aa03-939abb159adb",
   "metadata": {},
   "outputs": [
    {
     "name": "stdout",
     "output_type": "stream",
     "text": [
      "year 2048\n",
      "78\n"
     ]
    }
   ],
   "source": [
    "current_year = 2048\n",
    "\n",
    "def calculate_age(birth_year):\n",
    "  age = current_year - birth_year\n",
    "  return age\n",
    "\n",
    "print(\"year\",current_year)\n",
    "\n",
    "print(calculate_age(1970))"
   ]
  },
  {
   "cell_type": "code",
   "execution_count": null,
   "id": "8daea445-d5f0-433f-ad35-78790015bd69",
   "metadata": {},
   "outputs": [],
   "source": []
  }
 ],
 "metadata": {
  "kernelspec": {
   "display_name": "Python 3 (ipykernel)",
   "language": "python",
   "name": "python3"
  },
  "language_info": {
   "codemirror_mode": {
    "name": "ipython",
    "version": 3
   },
   "file_extension": ".py",
   "mimetype": "text/x-python",
   "name": "python",
   "nbconvert_exporter": "python",
   "pygments_lexer": "ipython3",
   "version": "3.11.5"
  }
 },
 "nbformat": 4,
 "nbformat_minor": 5
}
