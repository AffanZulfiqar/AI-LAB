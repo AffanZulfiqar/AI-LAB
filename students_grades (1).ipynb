{
 "cells": [
  {
   "cell_type": "markdown",
   "id": "2b9e9e8d-a67f-41fb-81ed-713e86ee668b",
   "metadata": {},
   "source": [
    "## Data Loading"
   ]
  },
  {
   "cell_type": "code",
   "execution_count": 15,
   "id": "bda9d806-8476-4a16-a7de-4ce71dfcb76a",
   "metadata": {},
   "outputs": [
    {
     "name": "stdout",
     "output_type": "stream",
     "text": [
      "{'Name': 'Affan Zulfiqar', 'Age': '21', 'SE': 93, 'Linear Algebra': 84, 'AI': 96, 'OS': 78, 'Database': 93}\n",
      "{'Name': 'Raja Iqbal', 'Age': '22', 'SE': 88, 'Linear Algebra': 75, 'AI': 85, 'OS': 72, 'Database': 86}\n",
      "{'Name': 'Zaryab Hassan', 'Age': '20', 'SE': 84, 'Linear Algebra': 68, 'AI': 89, 'OS': 56, 'Database': 83}\n",
      "{'Name': 'Abdul Mohiz', 'Age': '22', 'SE': 76, 'Linear Algebra': 58, 'AI': 75, 'OS': 67, 'Database': 84}\n",
      "{'Name': 'Qasim Khan', 'Age': '20', 'SE': 91, 'Linear Algebra': 79, 'AI': 86, 'OS': 81, 'Database': 81}\n",
      "{'Name': 'Tanveer Younas', 'Age': '21', 'SE': 93, 'Linear Algebra': 87, 'AI': 81, 'OS': 86, 'Database': 95}\n",
      "{'Name': 'Rafay Khalid', 'Age': '19', 'SE': 89, 'Linear Algebra': 78, 'AI': 78, 'OS': 84, 'Database': 92}\n",
      "{'Name': 'Ehtisham Saleem', 'Age': '20', 'SE': 82, 'Linear Algebra': 71, 'AI': 74, 'OS': 81, 'Database': 82}\n",
      "{'Name': 'Khizer Iqbal', 'Age': '22', 'SE': 78, 'Linear Algebra': 74, 'AI': 84, 'OS': 65, 'Database': 73}\n",
      "{'Name': 'Abdul Haseeb', 'Age': '22', 'SE': 67, 'Linear Algebra': 64, 'AI': 82, 'OS': 68, 'Database': 82}\n",
      "{'Name': 'Momin Khan', 'Age': '21', 'SE': 72, 'Linear Algebra': 88, 'AI': 64, 'OS': 72, 'Database': 89}\n",
      "{'Name': 'Daniyal Afridi', 'Age': '21', 'SE': 73, 'Linear Algebra': 64, 'AI': 63, 'OS': 81, 'Database': 64}\n",
      "{'Name': 'Wajid Riaz', 'Age': '23', 'SE': 69, 'Linear Algebra': 72, 'AI': 75, 'OS': 84, 'Database': 76}\n"
     ]
    }
   ],
   "source": [
    "import csv\n",
    "# Loading dataset into a Python list\n",
    "students = []\n",
    "\n",
    "with open('student_grades.csv', 'r') as file:\n",
    "    reader = csv.DictReader(file)\n",
    "    for row in reader:\n",
    "        # Converting grades to integers\n",
    "        row['SE'] = int(row['SE'])\n",
    "        row['Linear Algebra'] = int(row['Linear Algebra'])\n",
    "        row['AI'] = int(row['AI'])\n",
    "        row['OS'] = int(row['OS'])\n",
    "        row['Database'] = int(row['Database'])\n",
    "        students.append(row)\n",
    "for student in students:\n",
    "    print(student)"
   ]
  },
  {
   "cell_type": "markdown",
   "id": "6f9799a4-1ba8-485f-bc49-c3a579e8f14e",
   "metadata": {},
   "source": [
    "## Function Creation"
   ]
  },
  {
   "cell_type": "code",
   "execution_count": 13,
   "id": "98d0d760-bc0b-4a94-b917-1db9caaa2a57",
   "metadata": {},
   "outputs": [],
   "source": [
    "def calculate_average(grades):\n",
    "    \"\"\"Calculate the average of a list of grades.\"\"\"\n",
    "    return sum(grades) / len(grades)\n"
   ]
  },
  {
   "cell_type": "markdown",
   "id": "a8da7e79-8ed2-47a1-9c48-7da0958e216d",
   "metadata": {},
   "source": [
    "## Data Analysis"
   ]
  },
  {
   "cell_type": "code",
   "execution_count": 7,
   "id": "ad62fcea-c88c-4ba5-82ea-c1d59b3090d1",
   "metadata": {},
   "outputs": [
    {
     "name": "stdout",
     "output_type": "stream",
     "text": [
      "Affan Zulfiqar's average grade: 88.80\n",
      "Raja Iqbal's average grade: 81.20\n",
      "Zaryab Hassan's average grade: 76.00\n",
      "Abdul Mohiz's average grade: 72.00\n",
      "Qasim Khan's average grade: 83.60\n",
      "Tanveer Younas's average grade: 88.40\n",
      "Rafay Khalid's average grade: 84.20\n",
      "Ehtisham Saleem's average grade: 78.00\n",
      "Khizer Iqbal's average grade: 74.80\n",
      "Abdul Haseeb's average grade: 72.60\n",
      "Momin Khan's average grade: 77.00\n",
      "Daniyal Afridi's average grade: 69.00\n",
      "Wajid Riaz's average grade: 75.20\n",
      "Highest grades: {'SE': 93, 'Linear Algebra': 88, 'AI': 96, 'OS': 86, 'Database': 95}\n",
      "Lowest grades: {'SE': 67, 'Linear Algebra': 58, 'AI': 63, 'OS': 56, 'Database': 64}\n"
     ]
    }
   ],
   "source": [
    "# Initializing variables to track highest and lowest grades for each subject\n",
    "subjects = ['SE', 'Linear Algebra', 'AI', 'OS', 'Database']\n",
    "highest_grades = {subject: float('-inf') for subject in subjects}\n",
    "lowest_grades = {subject: float('inf') for subject in subjects}\n",
    "\n",
    "# Iterating over each student's grades and calculating their average\n",
    "for student in students:\n",
    "    grades = [student[subject] for subject in subjects]\n",
    "    average = calculate_average(grades)\n",
    "    print(f\"{student['Name']}'s average grade: {average:.2f}\")\n",
    "\n",
    "    # Updating highest and lowest grades for each subject\n",
    "    for subject in subjects:\n",
    "        highest_grades[subject] = max(highest_grades[subject], student[subject])\n",
    "        lowest_grades[subject] = min(lowest_grades[subject], student[subject])\n",
    "\n",
    "print(f\"Highest grades: {highest_grades}\")\n",
    "print(f\"Lowest grades: {lowest_grades}\")\n"
   ]
  },
  {
   "cell_type": "markdown",
   "id": "221a52eb-afc9-46c0-8b65-6caff3d16498",
   "metadata": {},
   "source": [
    "## Performance Improvement"
   ]
  },
  {
   "cell_type": "code",
   "execution_count": 14,
   "id": "1b8f5ec0-474a-42a6-be9a-b08a34b10d56",
   "metadata": {},
   "outputs": [
    {
     "name": "stdout",
     "output_type": "stream",
     "text": [
      "Affan Zulfiqar's average grade: 88.80 (B)\n",
      "Raja Iqbal's average grade: 81.20 (B)\n",
      "Zaryab Hassan's average grade: 76.00 (C)\n",
      "Abdul Mohiz's average grade: 72.00 (C)\n",
      "Qasim Khan's average grade: 83.60 (B)\n",
      "Tanveer Younas's average grade: 88.40 (B)\n",
      "Rafay Khalid's average grade: 84.20 (B)\n",
      "Ehtisham Saleem's average grade: 78.00 (C)\n",
      "Khizer Iqbal's average grade: 74.80 (C)\n",
      "Abdul Haseeb's average grade: 72.60 (C)\n",
      "Momin Khan's average grade: 77.00 (C)\n",
      "Daniyal Afridi's average grade: 69.00 (D)\n",
      "Wajid Riaz's average grade: 75.20 (C)\n",
      "Highest grades: {'SE': 93, 'Linear Algebra': 88, 'AI': 96, 'OS': 86, 'Database': 95}\n",
      "Lowest grades: {'SE': 67, 'Linear Algebra': 58, 'AI': 63, 'OS': 56, 'Database': 64}\n"
     ]
    }
   ],
   "source": [
    "def grade_to_letter(grade):\n",
    "    \"\"\"Converting a numerical grade to a letter grade.\"\"\"\n",
    "    if grade >= 90:\n",
    "        return 'A'\n",
    "    elif grade >= 80:\n",
    "        return 'B'\n",
    "    elif grade >= 70:\n",
    "        return 'C'\n",
    "    elif grade >= 60:\n",
    "        return 'D'\n",
    "    else:\n",
    "        return 'F'\n",
    "\n",
    "# Reset index for while loop\n",
    "index = 0\n",
    "\n",
    "while index < len(students):\n",
    "    student = students[index]\n",
    "    grades = [student[subject] for subject in subjects]\n",
    "    average = calculate_average(grades)\n",
    "    letter_grade = grade_to_letter(average)\n",
    "    print(f\"{student['Name']}'s average grade: {average:.2f} ({letter_grade})\")\n",
    "\n",
    "    # Update highest and lowest grades for each subject\n",
    "    for subject in subjects:\n",
    "        highest_grades[subject] = max(highest_grades[subject], student[subject])\n",
    "        lowest_grades[subject] = min(lowest_grades[subject], student[subject])\n",
    "\n",
    "    index += 1\n",
    "\n",
    "print(f\"Highest grades: {highest_grades}\")\n",
    "print(f\"Lowest grades: {lowest_grades}\")"
   ]
  }
 ],
 "metadata": {
  "kernelspec": {
   "display_name": "Python 3 (ipykernel)",
   "language": "python",
   "name": "python3"
  },
  "language_info": {
   "codemirror_mode": {
    "name": "ipython",
    "version": 3
   },
   "file_extension": ".py",
   "mimetype": "text/x-python",
   "name": "python",
   "nbconvert_exporter": "python",
   "pygments_lexer": "ipython3",
   "version": "3.11.5"
  }
 },
 "nbformat": 4,
 "nbformat_minor": 5
}
